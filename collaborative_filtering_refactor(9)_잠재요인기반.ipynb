{
  "nbformat": 4,
  "nbformat_minor": 0,
  "metadata": {
    "colab": {
      "provenance": [],
      "machine_shape": "hm",
      "gpuType": "T4",
      "authorship_tag": "ABX9TyO7WFyPZKXWaAIc56f3N+he",
      "include_colab_link": true
    },
    "kernelspec": {
      "name": "python3",
      "display_name": "Python 3"
    },
    "language_info": {
      "name": "python"
    },
    "accelerator": "GPU"
  },
  "cells": [
    {
      "cell_type": "markdown",
      "metadata": {
        "id": "view-in-github",
        "colab_type": "text"
      },
      "source": [
        "<a href=\"https://colab.research.google.com/github/hscrown/080354/blob/master/collaborative_filtering_refactor(9)_%EC%9E%A0%EC%9E%AC%EC%9A%94%EC%9D%B8%EA%B8%B0%EB%B0%98.ipynb\" target=\"_parent\"><img src=\"https://colab.research.google.com/assets/colab-badge.svg\" alt=\"Open In Colab\"/></a>"
      ]
    },
    {
      "cell_type": "markdown",
      "source": [
        "잠재요인기반 협업 필터링  "
      ],
      "metadata": {
        "id": "_rtocjNhkL4r"
      }
    },
    {
      "cell_type": "markdown",
      "source": [
        "# 필요한 데이터 임포트"
      ],
      "metadata": {
        "id": "FnNtXMZsRmr9"
      }
    },
    {
      "cell_type": "code",
      "source": [
        "# !pip install datasets\n",
        "\n",
        "from sklearn.decomposition import TruncatedSVD\n",
        "from scipy.sparse.linalg import svds\n",
        "\n",
        "import matplotlib.pyplot as plt\n",
        "import seaborn as sns\n",
        "import pandas as pd\n",
        "import numpy as np\n",
        "\n",
        "import warnings\n",
        "warnings.filterwarnings(\"ignore\")\n",
        "# from datasets import load_dataset\n",
        "\n",
        "from sklearn.metrics import mean_squared_error, mean_absolute_error"
      ],
      "metadata": {
        "id": "oJcPRSqukayj"
      },
      "execution_count": 160,
      "outputs": []
    },
    {
      "cell_type": "code",
      "source": [
        "import pandas as pd\n",
        "import numpy as np\n",
        "from scipy.sparse.linalg import svds\n",
        "\n",
        "def load_and_preprocess(data_path):\n",
        "    # CSV 파일을 읽어와 DataFrame을 반환\n",
        "    df = pd.read_csv(data_path)\n",
        "    # 필요한 데이터 클린징이나 전처리 작업을 추가\n",
        "    return df\n",
        "\n",
        "def create_user_item_matrix(df, user_id_col, item_id_col, rating_col):\n",
        "    # 피벗 테이블을 생성하여 사용자-장소 평점 행렬을 만듦\n",
        "    user_item_matrix = df.pivot_table(index=user_id_col, columns=item_id_col, values=rating_col)\n",
        "    # NaN 값은 0으로 채움\n",
        "    user_item_matrix = user_item_matrix.fillna(0)\n",
        "    return user_item_matrix\n",
        "\n",
        "def perform_svd(user_item_matrix, num_components=1):\n",
        "    # 사용자 평균 평점을 계산\n",
        "    user_ratings_mean = np.mean(user_item_matrix, axis=1)\n",
        "    # 평균을 빼서 행렬을 정규화\n",
        "    matrix_normalized = user_item_matrix.sub(user_ratings_mean, axis=0).values\n",
        "    # SVD 수행\n",
        "    U, sigma, Vt = svds(matrix_normalized, k=num_components)\n",
        "    sigma = np.diag(sigma)  # 시그마를 대각 행렬로 변환\n",
        "    return U, sigma, Vt, user_ratings_mean\n",
        "\n",
        "def recommend_places(user_id, df_svd_preds, user_ratings, num_recommendations=5):\n",
        "    user_id = int(user_id)  # 'User Id'를 정수로 처리\n",
        "\n",
        "    # 사용자 ID 존재 여부 확인\n",
        "    if user_id not in df_svd_preds.index:\n",
        "        print(f\"No data available for User ID {user_id}.\")\n",
        "        return pd.DataFrame()  # 빈 DataFrame 반환\n",
        "\n",
        "    user_rated_places = user_ratings[user_ratings['User Id'] == user_id]['Place Id'].unique()\n",
        "    user_predictions = df_svd_preds.loc[user_id].drop(user_rated_places)\n",
        "    top_n_places = user_predictions.sort_values(ascending=False).head(num_recommendations)\n",
        "\n",
        "    recommended_places = user_ratings[user_ratings['Place Id'].isin(top_n_places.index)]\n",
        "    recommended_places = recommended_places.drop_duplicates(subset=['Place Id'])\n",
        "    recommended_places['Predicted Rating'] = top_n_places.values\n",
        "    return recommended_places[['Place Id', 'Predicted Rating']]\n"
      ],
      "metadata": {
        "id": "gSmj7HlqVJkv"
      },
      "execution_count": 161,
      "outputs": []
    },
    {
      "cell_type": "markdown",
      "source": [
        "# 함수사용"
      ],
      "metadata": {
        "id": "J86B6vqJmDe-"
      }
    },
    {
      "cell_type": "code",
      "source": [
        "\n",
        "# 데이터 로드 및 전처리\n",
        "data_path = 'user_rating_240429.csv'\n",
        "df = load_and_preprocess(data_path)\n",
        "user_item_matrix = create_user_item_matrix(df, 'User Id', 'Place Id', 'Rating')\n",
        "U, sigma, Vt, user_ratings_mean = perform_svd(user_item_matrix, num_components=12)\n",
        "\n",
        "# 예측 평점 계산 및 DataFrame 생성\n",
        "predicted_ratings = np.dot(np.dot(U, sigma), Vt) + user_ratings_mean.values.reshape(-1, 1)\n",
        "predicted_ratings = np.clip(predicted_ratings, 1, 5)  # 평점을 1에서 5 사이로 제한\n",
        "df_svd_preds = pd.DataFrame(predicted_ratings, index=user_item_matrix.index, columns=user_item_matrix.columns)\n",
        "\n",
        "# 사용자 ID 설정 및 추천 실행\n",
        "user_id = 55\n",
        "recommended_places = recommend_places(user_id, df_svd_preds, df, num_recommendations=5)\n",
        "print(recommended_places)"
      ],
      "metadata": {
        "colab": {
          "base_uri": "https://localhost:8080/"
        },
        "id": "QoKqmfgrmFGd",
        "outputId": "aee81826-4ebd-4f89-c6ce-bab36c7ddf2b"
      },
      "execution_count": 162,
      "outputs": [
        {
          "output_type": "stream",
          "name": "stdout",
          "text": [
            "      Place Id  Predicted Rating\n",
            "1695       117               1.0\n",
            "1727       115               1.0\n",
            "2639       116               1.0\n",
            "3162         0               1.0\n",
            "4143       123               1.0\n"
          ]
        }
      ]
    },
    {
      "cell_type": "code",
      "source": [
        "# 실제평점과 예측평점비교\n",
        "\n",
        "# 사용자 77의 실제 평점 데이터 가져오기\n",
        "actual_ratings = df[df['User Id'] == 77]\n",
        "\n",
        "# 사용자 77의 예측 평점 가져오기\n",
        "predicted_ratings_for_user = df_svd_preds.loc[77]\n",
        "\n",
        "# 실제 평점 데이터와 예측 평점 데이터를 Place Id를 기준으로 결합\n",
        "comparison_df = actual_ratings.merge(predicted_ratings_for_user.rename('Predicted Rating'), left_on='Place Id', right_index=True)\n",
        "\n",
        "# 필요한 컬럼 선택\n",
        "comparison_df = comparison_df[['Place Id', 'Rating', 'Predicted Rating']]\n",
        "\n",
        "# 결과 출력\n",
        "print(comparison_df)\n",
        "\n",
        "\n"
      ],
      "metadata": {
        "colab": {
          "base_uri": "https://localhost:8080/"
        },
        "id": "lDBWXuuTmY1C",
        "outputId": "904c75b8-c6a6-4277-810f-857f9547c512"
      },
      "execution_count": 163,
      "outputs": [
        {
          "output_type": "stream",
          "name": "stdout",
          "text": [
            "      Place Id  Rating  Predicted Rating\n",
            "1225       132       5               5.0\n",
            "3835        25       5               1.0\n",
            "3887        87       5               1.0\n"
          ]
        }
      ]
    },
    {
      "cell_type": "code",
      "source": [
        "# 실제 평점이 0이 아닌 데이터 필터링\n",
        "non_zero_ratings = df[df['Rating'] > 0]\n",
        "\n",
        "# 모든 사용자의 예측 평점과 실제 평점을 비교하기 위해 합치기\n",
        "# 예측 평점 DataFrame을 재구성하여 각 사용자의 예측 평점을 long format으로 변환\n",
        "predicted_ratings_long = df_svd_preds.stack().reset_index()\n",
        "predicted_ratings_long.columns = ['User Id', 'Place Id', 'Predicted Rating']\n",
        "\n",
        "# 실제 평점과 예측 평점 결합\n",
        "comparison_df = non_zero_ratings.merge(predicted_ratings_long, on=['User Id', 'Place Id'])\n",
        "\n",
        "# 결과 출력\n",
        "print(comparison_df[['User Id', 'Place Id', 'Rating', 'Predicted Rating']])\n",
        "\n",
        "\n"
      ],
      "metadata": {
        "colab": {
          "base_uri": "https://localhost:8080/"
        },
        "id": "xpuwOW6Mo7db",
        "outputId": "d498683f-93ac-4bd4-9169-3b0469c12851"
      },
      "execution_count": 164,
      "outputs": [
        {
          "output_type": "stream",
          "name": "stdout",
          "text": [
            "      User Id  Place Id  Rating  Predicted Rating\n",
            "0        1685        34       1               1.0\n",
            "1        1166        34       5               1.0\n",
            "2         936        34       3               1.0\n",
            "3          82        34       4               1.0\n",
            "4         757        34       1               1.0\n",
            "...       ...       ...     ...               ...\n",
            "4470      482       159       1               1.0\n",
            "4471      717       159       5               1.0\n",
            "4472      785       159       5               1.0\n",
            "4473     2978       159       1               1.0\n",
            "4474      272       159       5               1.0\n",
            "\n",
            "[4475 rows x 4 columns]\n"
          ]
        }
      ]
    },
    {
      "cell_type": "code",
      "source": [
        "# 시각화\n",
        "# 필요한 컬럼 선택\n",
        "view_df = comparison_df[['Rating', 'Predicted Rating']]\n",
        "view_df\n",
        "\n",
        "# 히스토그램\n",
        "view_df.plot(kind='hist', bins=20, alpha=.8)\n"
      ],
      "metadata": {
        "colab": {
          "base_uri": "https://localhost:8080/",
          "height": 448
        },
        "id": "4RYM8DmjpG1j",
        "outputId": "a8892e87-c2d4-453c-81ec-310d9678e492"
      },
      "execution_count": 165,
      "outputs": [
        {
          "output_type": "execute_result",
          "data": {
            "text/plain": [
              "<Axes: ylabel='Frequency'>"
            ]
          },
          "metadata": {},
          "execution_count": 165
        },
        {
          "output_type": "display_data",
          "data": {
            "text/plain": [
              "<Figure size 640x480 with 1 Axes>"
            ],
            "image/png": "[encoded data removed]"
          },
          "metadata": {}
        }
      ]
    },
    {
      "source": [
        "view_df.plot(kind='scatter', x='Rating', y='Predicted Rating', s=32, alpha=.8)\n",
        "plt.gca().spines[['top', 'right',]].set_visible(False)"
      ],
      "cell_type": "code",
      "metadata": {
        "colab": {
          "base_uri": "https://localhost:8080/",
          "height": 449
        },
        "id": "2IvNmNrLpaNT",
        "outputId": "7c71c328-98ea-44a8-9a99-66fc8bfbbe36"
      },
      "execution_count": 166,
      "outputs": [
        {
          "output_type": "display_data",
          "data": {
            "text/plain": [
              "<Figure size 640x480 with 1 Axes>"
            ],
            "image/png": "[encoded data removed]"
          },
          "metadata": {}
        }
      ]
    },
    {
      "cell_type": "code",
      "source": [
        "# 성능함수\n",
        "# RMSE\n",
        "def rmse(actual, predicted):\n",
        "    return np.sqrt(np.mean((actual - predicted) ** 2))\n",
        "\n",
        "# MAE\n",
        "def mae(actual, predicted):\n",
        "    return np.mean(np.abs(actual - predicted))\n",
        "\n",
        "# 함수 수행\n",
        "rmse_value = rmse(comparison_df['Rating'], comparison_df['Predicted Rating'])\n",
        "mae_value = mae(comparison_df['Rating'], comparison_df['Predicted Rating'])\n",
        "\n",
        "print(\"RMSE:\", rmse_value)\n",
        "print(\"MAE:\", mae_value)\n",
        "\n"
      ],
      "metadata": {
        "colab": {
          "base_uri": "https://localhost:8080/"
        },
        "id": "Q-lQrHdKp_xB",
        "outputId": "f3b27304-ad9f-4179-c26b-c7801d03d35d"
      },
      "execution_count": 167,
      "outputs": [
        {
          "output_type": "stream",
          "name": "stdout",
          "text": [
            "RMSE: 2.476720431527707\n",
            "MAE: 1.698449897079726\n"
          ]
        }
      ]
    },
    {
      "cell_type": "code",
      "source": [],
      "metadata": {
        "id": "UKNNxIxHqQ96"
      },
      "execution_count": 167,
      "outputs": []
    }
  ]
}