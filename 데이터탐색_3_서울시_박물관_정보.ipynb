{
  "nbformat": 4,
  "nbformat_minor": 0,
  "metadata": {
    "colab": {
      "provenance": [],
      "authorship_tag": "ABX9TyN85mseoSuacLW0N6cpJV2n",
      "include_colab_link": true
    },
    "kernelspec": {
      "name": "python3",
      "display_name": "Python 3"
    },
    "language_info": {
      "name": "python"
    }
  },
  "cells": [
    {
      "cell_type": "markdown",
      "metadata": {
        "id": "view-in-github",
        "colab_type": "text"
      },
      "source": [
        "<a href=\"https://colab.research.google.com/github/hscrown/080354/blob/master/%EB%8D%B0%EC%9D%B4%ED%84%B0%ED%83%90%EC%83%89_3_%EC%84%9C%EC%9A%B8%EC%8B%9C_%EB%B0%95%EB%AC%BC%EA%B4%80_%EC%A0%95%EB%B3%B4.ipynb\" target=\"_parent\"><img src=\"https://colab.research.google.com/assets/colab-badge.svg\" alt=\"Open In Colab\"/></a>"
      ]
    },
    {
      "cell_type": "code",
      "execution_count": 24,
      "metadata": {
        "id": "bQ9OrBnwsLxh"
      },
      "outputs": [],
      "source": [
        "import pandas as pd"
      ]
    },
    {
      "cell_type": "markdown",
      "source": [
        "# 데이터 로드"
      ],
      "metadata": {
        "id": "B1RTnUMessvy"
      }
    },
    {
      "cell_type": "code",
      "source": [
        "# csv 파일 불러오기\n",
        "df = pd.read_csv('서울특별시_박물관미술관정보_20230323.csv', encoding='cp949')"
      ],
      "metadata": {
        "id": "zXaqWCTHsyu9"
      },
      "execution_count": 25,
      "outputs": []
    },
    {
      "cell_type": "code",
      "source": [
        "df.isnull().sum()"
      ],
      "metadata": {
        "id": "5sRWpW4XtS3C",
        "outputId": "1139bc6f-bc26-437f-d3e9-43b125c63308",
        "colab": {
          "base_uri": "https://localhost:8080/"
        }
      },
      "execution_count": 26,
      "outputs": [
        {
          "output_type": "execute_result",
          "data": {
            "text/plain": [
              "시설명            0\n",
              "박물관미술관구분       7\n",
              "소재지도로명주소       0\n",
              "소재지지번주소      175\n",
              "위도            33\n",
              "경도            33\n",
              "운영기관전화번호       1\n",
              "운영기관명          0\n",
              "운영홈페이지         5\n",
              "편의시설정보       175\n",
              "평일관람시작시각       0\n",
              "평일관람종료시각       0\n",
              "공휴일관람시작시각      0\n",
              "공휴일관람종료시각      0\n",
              "휴관정보           0\n",
              "어른관람료         40\n",
              "청소년관람료        43\n",
              "어린이관람료        43\n",
              "관람료기타정보      174\n",
              "박물관미술관소개     175\n",
              "교통안내정보       175\n",
              "관리기관전화번호      16\n",
              "관리기관명         16\n",
              "데이터기준일자       16\n",
              "dtype: int64"
            ]
          },
          "metadata": {},
          "execution_count": 26
        }
      ]
    },
    {
      "cell_type": "code",
      "source": [
        "df.columns"
      ],
      "metadata": {
        "colab": {
          "base_uri": "https://localhost:8080/"
        },
        "id": "YaGqpiKw6mrt",
        "outputId": "ab50f4da-2e92-4deb-b6c0-aca6a497a604"
      },
      "execution_count": 27,
      "outputs": [
        {
          "output_type": "execute_result",
          "data": {
            "text/plain": [
              "Index(['시설명', '박물관미술관구분', '소재지도로명주소', '소재지지번주소', '위도', '경도', '운영기관전화번호',\n",
              "       '운영기관명', '운영홈페이지', '편의시설정보', '평일관람시작시각', '평일관람종료시각', '공휴일관람시작시각',\n",
              "       '공휴일관람종료시각', '휴관정보', '어른관람료', '청소년관람료', '어린이관람료', '관람료기타정보', '박물관미술관소개',\n",
              "       '교통안내정보', '관리기관전화번호', '관리기관명', '데이터기준일자'],\n",
              "      dtype='object')"
            ]
          },
          "metadata": {},
          "execution_count": 27
        }
      ]
    },
    {
      "cell_type": "code",
      "source": [
        "# '주소' 컬럼 생성 # 도로명주소가 결측값이면 지번주소사용\n",
        "import numpy as np\n",
        "df['주소'] = np.where(df['소재지도로명주소'].isna() | (df['소재지도로명주소'] == '-') | (df['소재지도로명주소'].str.strip() == ''), df['소재지지번주소'], df['소재지도로명주소'])"
      ],
      "metadata": {
        "id": "JcP_58LA7XRe"
      },
      "execution_count": 28,
      "outputs": []
    },
    {
      "cell_type": "code",
      "source": [
        "df.columns"
      ],
      "metadata": {
        "colab": {
          "base_uri": "https://localhost:8080/"
        },
        "id": "7AuX-pKl7jUK",
        "outputId": "95351e81-94e3-45c4-a1d1-c691fccf8ade"
      },
      "execution_count": 29,
      "outputs": [
        {
          "output_type": "execute_result",
          "data": {
            "text/plain": [
              "Index(['시설명', '박물관미술관구분', '소재지도로명주소', '소재지지번주소', '위도', '경도', '운영기관전화번호',\n",
              "       '운영기관명', '운영홈페이지', '편의시설정보', '평일관람시작시각', '평일관람종료시각', '공휴일관람시작시각',\n",
              "       '공휴일관람종료시각', '휴관정보', '어른관람료', '청소년관람료', '어린이관람료', '관람료기타정보', '박물관미술관소개',\n",
              "       '교통안내정보', '관리기관전화번호', '관리기관명', '데이터기준일자', '주소'],\n",
              "      dtype='object')"
            ]
          },
          "metadata": {},
          "execution_count": 29
        }
      ]
    },
    {
      "cell_type": "code",
      "source": [
        "cleaned_df = df[['시설명','박물관미술관구분','주소','운영기관전화번호','위도','경도']]"
      ],
      "metadata": {
        "id": "vcfWXTPr6vUQ"
      },
      "execution_count": 30,
      "outputs": []
    },
    {
      "cell_type": "markdown",
      "source": [
        "# csv 파일로 변환"
      ],
      "metadata": {
        "id": "HVeDEAt86kFk"
      }
    },
    {
      "cell_type": "code",
      "source": [
        "# tsv 파일로 변환 (콤마가 아닌 탭으로 구분)\n",
        "\n",
        "df.to_csv('seoul_museums.csv', index=False, encoding='utf-8')\n",
        "cleaned_df.to_csv('cleaned_seoul_museums.csv', index=False, encoding='utf-8')"
      ],
      "metadata": {
        "id": "o7iL91Hg7sku"
      },
      "execution_count": 33,
      "outputs": []
    },
    {
      "cell_type": "code",
      "source": [],
      "metadata": {
        "id": "jpsPeSIPBkcy"
      },
      "execution_count": null,
      "outputs": []
    }
  ]
}